{
 "cells": [
  {
   "cell_type": "markdown",
   "metadata": {},
   "source": [
    "### Exploring Data Generation from File"
   ]
  },
  {
   "cell_type": "code",
   "execution_count": 44,
   "metadata": {},
   "outputs": [],
   "source": [
    "import pandas as pd\n",
    "import datetime\n",
    "import time\n",
    "from confluent_kafka import Producer\n",
    "\n",
    "class MaxIterationsException ( Exception) :\n",
    "    '''Exception thrwon when reaches max iterations limit.'''\n",
    "    def __init__(self, max_iterations) -> None:\n",
    "        self.max_iterations = max_iterations\n",
    "\n",
    "    def __str__(self) -> str:\n",
    "        return f\"Reached max iterations ({self.max_iterations})\"\n",
    "\n",
    "class KafkaProducerFileStreamer:\n",
    "    '''Wrapper class to turn a file into a stream for Kafka Producer.'''\n",
    "    def __init__(self, process_handlers, step_frequency:int, accelerator:int = 1) -> None:\n",
    "        self._process_handlers = process_handlers\n",
    "        self._step_frequency = step_frequency\n",
    "        self._running = True\n",
    "        self._accelerator = accelerator\n",
    "\n",
    "    def load_file ( self, file_path, time_col = \"start_time\", value_col = \"value\"):\n",
    "        '''Load a file for stream production.'''\n",
    "        self._df = pd.read_csv(file_path)\n",
    "        self._time_col = time_col\n",
    "        self._df [ self._time_col ] = pd.to_datetime( self._df [ self._time_col] )\n",
    "        self._value_col = value_col\n",
    "\n",
    "    def stop_stream(self):\n",
    "        '''Stop the stream.'''\n",
    "        self._running = False\n",
    "\n",
    "    def start_stream(self, polling_start_dt:datetime, curr_iteration = 0, max_iterations = None):\n",
    "        '''Starts Kafka Producer stream.\n",
    "            params:\n",
    "            - polling_start_dt - start for polling\n",
    "            - value_col - name of column for value for Kafka production\n",
    "            - curr_iteration - offset iteration to start from.\n",
    "            - max_iterations - number of time iterations to execute.\n",
    "        '''\n",
    "        if self._time_col == None:\n",
    "            raise Exception(\"load_file needs to be called before starting stream.\")\n",
    "\n",
    "        df = self._df\n",
    "\n",
    "        while (self._running):\n",
    "            # Guard Statement:\n",
    "            if max_iterations and curr_iteration >= max_iterations:\n",
    "                raise MaxIterationsException(max_iterations)\n",
    "            \n",
    "            # Time bound filtering:\n",
    "            start_time = polling_start_dt + datetime.timedelta(0, curr_iteration * self._step_frequency * self._accelerator)\n",
    "            end_time = start_time + datetime.timedelta(0, self._step_frequency * self._accelerator)\n",
    "            \n",
    "            res_df = df [ \n",
    "                (df[self._time_col] >= start_time) & \n",
    "                (df[self._time_col] < end_time) \n",
    "            ]\n",
    "            \n",
    "            print( f\"{curr_iteration} -- start: {start_time} to end: {end_time}\")\n",
    "            print (f\"Found {len(res_df)} records.\")\n",
    "\n",
    "            # Process Values:\n",
    "            for indx, row in res_df.iterrows():\n",
    "                for p in self._process_handlers:\n",
    "                    p(row[self._value_col])\n",
    "                \n",
    "            curr_iteration = curr_iteration + 1\n",
    "            time.sleep( self._step_frequency )\n",
    "    "
   ]
  },
  {
   "cell_type": "code",
   "execution_count": 45,
   "metadata": {},
   "outputs": [],
   "source": [
    "handlers = [\n",
    "    lambda x: print(f\"Processing value: {x}.\")\n",
    "]\n",
    "\n",
    "producer_stream = KafkaProducerFileStreamer(handlers, 5, accelerator=60 ) # 5 * 60\n",
    "producer_stream.load_file( \n",
    "    \"../data/data_stream.csv\",\n",
    "    time_col = \"usage_datetime_start_eastern_time\",\n",
    "    value_col = \"usage_kw\"\n",
    ")"
   ]
  },
  {
   "cell_type": "code",
   "execution_count": 47,
   "metadata": {},
   "outputs": [
    {
     "name": "stdout",
     "output_type": "stream",
     "text": [
      "0 -- start: 2023-01-13 00:00:00 to end: 2023-01-13 00:05:00\n",
      "Found 1 records.\n",
      "Processing value: 820.8.\n",
      "1 -- start: 2023-01-13 00:05:00 to end: 2023-01-13 00:10:00\n",
      "Found 1 records.\n",
      "Processing value: 806.4.\n",
      "2 -- start: 2023-01-13 00:10:00 to end: 2023-01-13 00:15:00\n",
      "Found 1 records.\n",
      "Processing value: 792.0.\n",
      "3 -- start: 2023-01-13 00:15:00 to end: 2023-01-13 00:20:00\n",
      "Found 1 records.\n",
      "Processing value: 763.2.\n",
      "4 -- start: 2023-01-13 00:20:00 to end: 2023-01-13 00:25:00\n",
      "Found 1 records.\n",
      "Processing value: 748.8.\n",
      "5 -- start: 2023-01-13 00:25:00 to end: 2023-01-13 00:30:00\n",
      "Found 1 records.\n",
      "Processing value: 748.8.\n",
      "6 -- start: 2023-01-13 00:30:00 to end: 2023-01-13 00:35:00\n",
      "Found 1 records.\n",
      "Processing value: 756.0.\n",
      "7 -- start: 2023-01-13 00:35:00 to end: 2023-01-13 00:40:00\n",
      "Found 1 records.\n",
      "Processing value: 763.2.\n",
      "8 -- start: 2023-01-13 00:40:00 to end: 2023-01-13 00:45:00\n",
      "Found 1 records.\n",
      "Processing value: 777.6.\n",
      "9 -- start: 2023-01-13 00:45:00 to end: 2023-01-13 00:50:00\n",
      "Found 1 records.\n",
      "Processing value: 784.8.\n",
      "Completed max iterations\n"
     ]
    }
   ],
   "source": [
    "try:\n",
    "    producer_stream.start_stream( datetime.datetime(2023,1,13), max_iterations=10 )\n",
    "except MaxIterationsException as exc:\n",
    "    print (\"Completed max iterations\")"
   ]
  },
  {
   "cell_type": "code",
   "execution_count": null,
   "metadata": {},
   "outputs": [],
   "source": []
  }
 ],
 "metadata": {
  "kernelspec": {
   "display_name": "cscie192",
   "language": "python",
   "name": "python3"
  },
  "language_info": {
   "codemirror_mode": {
    "name": "ipython",
    "version": 3
   },
   "file_extension": ".py",
   "mimetype": "text/x-python",
   "name": "python",
   "nbconvert_exporter": "python",
   "pygments_lexer": "ipython3",
   "version": "3.12.3"
  }
 },
 "nbformat": 4,
 "nbformat_minor": 2
}
